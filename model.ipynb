{
 "cells": [
  {
   "cell_type": "code",
   "execution_count": 7,
   "metadata": {},
   "outputs": [
    {
     "ename": "SyntaxError",
     "evalue": "invalid syntax. Perhaps you forgot a comma? (2969720581.py, line 32)",
     "output_type": "error",
     "traceback": [
      "\u001b[0;36m  Cell \u001b[0;32mIn[7], line 32\u001b[0;36m\u001b[0m\n\u001b[0;31m    model.add(Convolution3D(256, (3, 3, 3) activation= 'relu'))\u001b[0m\n\u001b[0m                                 ^\u001b[0m\n\u001b[0;31mSyntaxError\u001b[0m\u001b[0;31m:\u001b[0m invalid syntax. Perhaps you forgot a comma?\n"
     ]
    }
   ],
   "source": [
    "\n",
    "import tensorflow\n",
    "from tensorflow.keras.models import Sequential\n",
    "from tensorflow.keras.layers import Convolution3D, ZeroPadding3D, MaxPooling3D, Flatten, Dense, Dropout\n",
    "from keras.preprocessing.image import ImageDataGenerator\n",
    "\n",
    "def create_model():\n",
    "\n",
    "\n",
    "    print(\"Creating model.\")\n",
    "    # sys.stdout. Flush()\n",
    "    nClasses=2\n",
    "    model = Sequential()\n",
    "    #model.add(ZeroPadding3d((0, 1, 1), input_shape  = (3, 320, 320, 1)))\n",
    "    model.add(Convolution3D(32, (3, 3, 3), activation = 'relu', input_shape = (3, 320, 320, 1)))\n",
    "    model.add(ZeroPadding3D((0, 1, 1)))\n",
    "    model.add(Convolution3D(64, (3, 3, 3), activation= 'relu'))\n",
    "    model.add(MaxPooling3D((2, 2, 2), strides=None, padding='valid'))\n",
    "\n",
    "\n",
    "\n",
    "    model.add(ZeroPadding3D((0, 1, 1)))\n",
    "    model.add(Convolution3D(128, (3, 3, 3), activation= 'relu'))\n",
    "    model.add(ZeroPadding3D((0, 1, 1)))\n",
    "    model.add(Convolution3D(128, (3, 3, 3), activation= 'relu'))\n",
    "    model.add(MaxPooling3D((2, 2, 2), strides=None, padding='valid'))\n",
    "\n",
    "    model.add(ZeroPadding3D((0, 1, 1)))\n",
    "    model.add(Convolution3D(256, (3, 3, 3), activation= 'relu'))\n",
    "    model.add(ZeroPadding3D((0, 1, 1)))\n",
    "    model.add(Convolution3D(256, (3, 3, 3), activation= 'relu'))\n",
    "    model.add(ZeroPadding3D((0, 1, 1)))\n",
    "    model.add(Convolution3D(256, (3, 3, 3) activation= 'relu'))\n",
    "    model.add(MaxPooling3D((2, 2, 2), strides=None, padding='valid'))\n",
    "\n",
    "    model.add(ZeroPadding3D((0, 1, 1)))\n",
    "    model.add(Convolution3D(512, (3, 3, 3), activation= 'relu'))\n",
    "    model.add(ZeroPadding3D((0, 1, 1)))\n",
    "    model.add(Convolution3D(512, (3, 3, 3), activation= 'relu'))\n",
    "    model.add(ZeroPadding3D((0, 1, 1)))\n",
    "    model.add(Convolution3D(512, (3, 3, 3), activation= 'relu'))\n",
    "    model.add(MaxPooling3D((2, 2, 2), strides=None, padding='valid'))\n",
    "\n",
    "    model.add(ZeroPadding3D((0, 1, 1)))\n",
    "    model.add(Convolution3D(512, (3, 3, 3), activation= 'relu'))\n",
    "    model.add(ZeroPadding3D((0, 1, 1)))\n",
    "    model.add(Convolution3D(512, (3, 3, 3), activation= 'relu'))\n",
    "    model.add(ZeroPadding3D((0, 1, 1)))\n",
    "    model.add(Convolution3D(512, (3, 3, 3), activation= 'relu'))\n",
    "    model.add(MaxPooling3D((2, 2, 2), strides=None, padding='valid'))\n",
    "\n",
    "    model.add(Flatten())\n",
    "    model.add(Dense(4096, activation= 'relu'))\n",
    "    model.add(Dropout(0.5))\n",
    "\n",
    "    model.add(Dense(4096, activation= 'relu'))\n",
    "    model.add(Dropout(0.5))\n",
    "\n",
    "    model.add(Dense(nClasses, activation= 'softmax'))\n",
    "    # print (model. summary())\n",
    "\n",
    "    print(\"Done!\")\n",
    "\n",
    "    #sys.stdout.lush()\n"
   ]
  },
  {
   "cell_type": "code",
   "execution_count": null,
   "metadata": {},
   "outputs": [],
   "source": [
    "data_generator = ImageDataGenerator(\n",
    "            rotation_range=0,\n",
    "            width_shift_range=0.2,\n",
    "            height_shift_range=0.2,\n",
    "            shear_range=0.2,\n",
    "            zoom_range=0.2,\n",
    "            horizontal_flip=True,\n",
    "            fill_mode='nearest'\n",
    ")\n",
    "#flow from the directory or flow\n"
   ]
  }
 ],
 "metadata": {
  "kernelspec": {
   "display_name": "env",
   "language": "python",
   "name": "python3"
  },
  "language_info": {
   "codemirror_mode": {
    "name": "ipython",
    "version": 3
   },
   "file_extension": ".py",
   "mimetype": "text/x-python",
   "name": "python",
   "nbconvert_exporter": "python",
   "pygments_lexer": "ipython3",
   "version": "3.11.2"
  },
  "orig_nbformat": 4,
  "vscode": {
   "interpreter": {
    "hash": "712100c6f44c9ff0355b703b47714add24be6b979b3758ea8d0490fd160b07f1"
   }
  }
 },
 "nbformat": 4,
 "nbformat_minor": 2
}
